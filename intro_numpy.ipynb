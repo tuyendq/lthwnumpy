{
  "nbformat": 4,
  "nbformat_minor": 0,
  "metadata": {
    "colab": {
      "name": "intro-numpy.ipynb",
      "provenance": [],
      "collapsed_sections": [],
      "authorship_tag": "ABX9TyOrcStVgF91tUjw+lLhJpuj",
      "include_colab_link": true
    },
    "kernelspec": {
      "name": "python3",
      "display_name": "Python 3"
    },
    "language_info": {
      "name": "python"
    }
  },
  "cells": [
    {
      "cell_type": "markdown",
      "metadata": {
        "id": "view-in-github",
        "colab_type": "text"
      },
      "source": [
        "<a href=\"https://colab.research.google.com/github/tuyendq/lthwnumpy/blob/main/intro_numpy.ipynb\" target=\"_parent\"><img src=\"https://colab.research.google.com/assets/colab-badge.svg\" alt=\"Open In Colab\"/></a>"
      ]
    },
    {
      "cell_type": "markdown",
      "metadata": {
        "id": "eIBw9whhv9sE"
      },
      "source": [
        "# Introdcution to Numpy"
      ]
    },
    {
      "cell_type": "code",
      "metadata": {
        "id": "WvSKJpgNlTj5"
      },
      "source": [
        "import numpy as np"
      ],
      "execution_count": null,
      "outputs": []
    },
    {
      "cell_type": "code",
      "metadata": {
        "id": "0G403nS6lt47"
      },
      "source": [
        "def randomization(n):\n",
        "  \"\"\"\n",
        "  Arg:\n",
        "    n - an integer\n",
        "  Returns:\n",
        "    A - a randomly-generated nx1 Numpy array\n",
        "  \"\"\"\n",
        "  return np.random.random([n, 1])"
      ],
      "execution_count": null,
      "outputs": []
    },
    {
      "cell_type": "code",
      "metadata": {
        "colab": {
          "base_uri": "https://localhost:8080/"
        },
        "id": "cYUnFs6wmIeP",
        "outputId": "333b6439-b309-40a2-97da-a528a3b4a77e"
      },
      "source": [
        "A = randomization(4)\n",
        "print(A)"
      ],
      "execution_count": null,
      "outputs": [
        {
          "output_type": "stream",
          "name": "stdout",
          "text": [
            "[[0.62993751]\n",
            " [0.60547575]\n",
            " [0.22169497]\n",
            " [0.36874059]]\n"
          ]
        }
      ]
    },
    {
      "cell_type": "code",
      "metadata": {
        "id": "UonEgpXSn-PG"
      },
      "source": [
        "def operations(h, w):\n",
        "  \"\"\"\n",
        "  Takes two inputs, h and w, and makes two Numpy array A and B of size h x w, and returns A, B, and s, the sum of A and B\n",
        "\n",
        "  Arg:\n",
        "    h - an integer - the height of A and B\n",
        "    w - an integer - the width of A and B\n",
        "  Returns (in this order):\n",
        "    A - randomly-generated h x w Numpy array\n",
        "    B - randomly-generated h x w Numpy array\n",
        "  \"\"\"\n",
        "  A = np.random.random([h, w])\n",
        "  B = np.random.random([h, w])\n",
        "  s = A + B\n",
        "\n",
        "  return (A, B, s)\n"
      ],
      "execution_count": null,
      "outputs": []
    },
    {
      "cell_type": "code",
      "metadata": {
        "colab": {
          "base_uri": "https://localhost:8080/"
        },
        "id": "XdU_RpTwpEDv",
        "outputId": "6f81e986-1c1b-4a9d-dd66-33fc08de029a"
      },
      "source": [
        "operations(4, 5)"
      ],
      "execution_count": null,
      "outputs": [
        {
          "output_type": "execute_result",
          "data": {
            "text/plain": [
              "(array([[0.68554974, 0.21143332, 0.27042203, 0.29866431, 0.70541654],\n",
              "        [0.16403041, 0.42851921, 0.70510279, 0.47621181, 0.16631278],\n",
              "        [0.9736085 , 0.33688972, 0.25610121, 0.10393359, 0.64941475],\n",
              "        [0.18591349, 0.02704125, 0.40372812, 0.92893814, 0.84420679]]),\n",
              " array([[0.70223191, 0.78715936, 0.51947019, 0.42629284, 0.38722933],\n",
              "        [0.28638497, 0.73522253, 0.75795493, 0.31434958, 0.19502372],\n",
              "        [0.39640139, 0.14714165, 0.56741553, 0.88000073, 0.22932258],\n",
              "        [0.11222921, 0.33070841, 0.78805321, 0.99352925, 0.38503425]]),\n",
              " array([[1.38778166, 0.99859268, 0.78989222, 0.72495714, 1.09264586],\n",
              "        [0.45041538, 1.16374174, 1.46305772, 0.7905614 , 0.36133649],\n",
              "        [1.37000989, 0.48403136, 0.82351674, 0.98393432, 0.87873733],\n",
              "        [0.2981427 , 0.35774966, 1.19178133, 1.92246739, 1.22924104]]))"
            ]
          },
          "metadata": {},
          "execution_count": 5
        }
      ]
    },
    {
      "cell_type": "code",
      "metadata": {
        "id": "I2u5NXpXqL8w"
      },
      "source": [
        "def norm(A, B):\n",
        "  \"\"\"\n",
        "  Takes two Numpy column arrays, A and B, and returns the L2 norm of their sum\n",
        "\n",
        "  Arg:\n",
        "    A - a Numpy array\n",
        "    B - a Numpy array\n",
        "  Returns:\n",
        "    s - the L2 norm of A + B\n",
        "  Ref: https://machinelearningmastery.com/vector-norms-machine-learning/\n",
        "  \"\"\"\n",
        "  return np.linalg.norm(A + B)"
      ],
      "execution_count": null,
      "outputs": []
    },
    {
      "cell_type": "code",
      "metadata": {
        "colab": {
          "base_uri": "https://localhost:8080/"
        },
        "id": "FYxrv7g8qsNQ",
        "outputId": "27279a71-6a0a-499a-df1e-6ebecd076377"
      },
      "source": [
        "A = np.array([2, 4])\n",
        "B = np.array([1, 5])\n",
        "norm(A, B)"
      ],
      "execution_count": null,
      "outputs": [
        {
          "output_type": "execute_result",
          "data": {
            "text/plain": [
              "9.486832980505138"
            ]
          },
          "metadata": {},
          "execution_count": 7
        }
      ]
    },
    {
      "cell_type": "markdown",
      "metadata": {
        "id": "1X7QI8Os2yTG"
      },
      "source": [
        "## Neural Network"
      ]
    },
    {
      "cell_type": "code",
      "metadata": {
        "id": "AQEs1ewM25HA"
      },
      "source": [
        "def neural_network(inputs, weights):\n",
        "  \"\"\"\n",
        "    Take an input vector and runs it through a 1-layer neural network\n",
        "    with a given weight matrix and returns the output.\n",
        "\n",
        "    Arg:\n",
        "      inputs: 2 x 1 Numpy array\n",
        "      weights: 2 x 1 Numpy array\n",
        "    Returns (in this order):\n",
        "      out: a 1 x 1 Numpy array, representing the output of the neural network\n",
        "  \"\"\"\n",
        "  # raise Notimplemented Error\n",
        "  wT = np.transpose(weights)\n",
        "  prod = np.matmul(wT, inputs)\n",
        "  out = np.tanh(prod)\n",
        "  return (out)"
      ],
      "execution_count": null,
      "outputs": []
    }
  ]
}